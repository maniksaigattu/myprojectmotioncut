{
 "cells": [
  {
   "cell_type": "code",
   "execution_count": 1,
   "id": "c0f0cc63",
   "metadata": {},
   "outputs": [],
   "source": [
    "#import required modules\n",
    "import string\n",
    "import random"
   ]
  },
  {
   "cell_type": "code",
   "execution_count": 3,
   "id": "44827592",
   "metadata": {},
   "outputs": [
    {
     "name": "stdout",
     "output_type": "stream",
     "text": [
      "enter the required length of password6\n",
      "enter no of passwords to generate10\n"
     ]
    }
   ],
   "source": [
    "# create variables to store length and no.of passwords to generate\n",
    "pass_length=int(input(\"enter the required length of password\"))\n",
    "n=int(input(\"enter no of passwords to generate\"))"
   ]
  },
  {
   "cell_type": "code",
   "execution_count": 4,
   "id": "f91cbb93",
   "metadata": {},
   "outputs": [
    {
     "name": "stdout",
     "output_type": "stream",
     "text": [
      "uALTxi\n",
      "n@gGal\n",
      "D3Ue#8\n",
      "a37my8\n",
      "QrXtnN\n",
      "J8Vkk8\n",
      "hiV%dp\n",
      "cu??wD\n",
      "3ZAi6e\n",
      "tfS^bF\n",
      "None\n"
     ]
    }
   ],
   "source": [
    "# creating a function which generates random passwords as per our requirements\n",
    "def password_generator(pass_length,n):\n",
    "    l_case = string.ascii_lowercase\n",
    "    u_case = string.ascii_uppercase\n",
    "    numbers = string.digits\n",
    "    special_char = '!@#$%^&*?'\n",
    "    comb_characters = l_case + u_case + numbers + special_char\n",
    "    for i in range(n):\n",
    "        password = ''.join(random.choice(comb_characters) for j in range(pass_length))\n",
    "\n",
    "        print(password)\n",
    "\n",
    "print(password_generator(pass_length,n))"
   ]
  },
  {
   "cell_type": "code",
   "execution_count": null,
   "id": "f2237838",
   "metadata": {},
   "outputs": [],
   "source": []
  }
 ],
 "metadata": {
  "kernelspec": {
   "display_name": "Python 3 (ipykernel)",
   "language": "python",
   "name": "python3"
  },
  "language_info": {
   "codemirror_mode": {
    "name": "ipython",
    "version": 3
   },
   "file_extension": ".py",
   "mimetype": "text/x-python",
   "name": "python",
   "nbconvert_exporter": "python",
   "pygments_lexer": "ipython3",
   "version": "3.9.13"
  }
 },
 "nbformat": 4,
 "nbformat_minor": 5
}
